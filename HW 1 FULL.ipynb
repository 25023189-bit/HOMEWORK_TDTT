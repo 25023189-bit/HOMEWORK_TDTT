{
 "cells": [
  {
   "cell_type": "code",
   "execution_count": 2,
   "id": "ae97c01d-5416-49d4-99fa-f14e8a4dfff8",
   "metadata": {},
   "outputs": [
    {
     "name": "stdin",
     "output_type": "stream",
     "text": [
      " 2\n"
     ]
    },
    {
     "name": "stdout",
     "output_type": "stream",
     "text": [
      "4\n"
     ]
    }
   ],
   "source": [
    "#Bài 1\n",
    "n = int(input())\n",
    "print (n*2) "
   ]
  },
  {
   "cell_type": "code",
   "execution_count": 10,
   "id": "3ba57829-6782-415b-9206-6707c20a2472",
   "metadata": {},
   "outputs": [
    {
     "name": "stdin",
     "output_type": "stream",
     "text": [
      "Nhập chiều rộng của mảnh đất:  1\n",
      "Nhập chiều dài của mảnh đất:  2\n"
     ]
    },
    {
     "name": "stdout",
     "output_type": "stream",
     "text": [
      "Diện tích phần trồng cây là: 1.21\n"
     ]
    }
   ],
   "source": [
    "# Bài 2\n",
    "a = float(input(\"Nhập chiều rộng của mảnh đất: \"))\n",
    "b = float(input(\"Nhập chiều dài của mảnh đất: \"))\n",
    "\n",
    "if a < b:\n",
    "    x = a * b\n",
    "    ban_kinh = a / 2\n",
    "    y = (ban_kinh) ** 2 * 3.14\n",
    "    dien_tich_trong_cay = x - y\n",
    "    print(\"Diện tích phần trồng cây là:\", round(dien_tich_trong_cay, 2))\n",
    "else:\n",
    "    print(\"Chiều dài phải lớn hơn chiều rộng.\")\n",
    "\n",
    "\n"
   ]
  },
  {
   "cell_type": "code",
   "execution_count": 17,
   "id": "eafaddbe-6cb8-4815-a56f-a6f0ba05c4cd",
   "metadata": {},
   "outputs": [
    {
     "name": "stdin",
     "output_type": "stream",
     "text": [
      "Nhập một kí tự :  123\n"
     ]
    },
    {
     "name": "stdout",
     "output_type": "stream",
     "text": [
      "Không phải chữ cái\n"
     ]
    }
   ],
   "source": [
    "#Bài 3\n",
    "c = input (\"Nhập một kí tự : \") \n",
    "if c.isupper() :\n",
    "        print ( \"Chữ cái viết thường là :\", c.lower())\n",
    "elif c.islower() :\n",
    "        print ( \" Chữ cái viết hoa là : \", c.upper ())\n",
    "else :\n",
    "        print (\"Không phải chữ cái\") \n",
    "\n"
   ]
  },
  {
   "cell_type": "code",
   "execution_count": 21,
   "id": "266df176-2161-4ddb-9eee-6a35cdfc9ab9",
   "metadata": {},
   "outputs": [
    {
     "name": "stdin",
     "output_type": "stream",
     "text": [
      "Nhập một chữ cái bất kì : 1\n"
     ]
    },
    {
     "name": "stdout",
     "output_type": "stream",
     "text": [
      "{c} không phải là kí tự alphabet\n"
     ]
    }
   ],
   "source": [
    "#Bài 4 \n",
    "c = input (\"Nhập một chữ cái bất kì :\")\n",
    "if c.isupper() or c.islower() :\n",
    "    print (\" {c} là kí tự alphabet \")\n",
    "else :\n",
    "    print ( \"{c} không phải là kí tự alphabet\" )\n",
    "    "
   ]
  },
  {
   "cell_type": "code",
   "execution_count": 26,
   "id": "08884bfb-e8f2-4d9a-998f-82f4b0f54149",
   "metadata": {},
   "outputs": [
    {
     "name": "stdin",
     "output_type": "stream",
     "text": [
      "Nhập một chữ cái in hoa:  G\n"
     ]
    },
    {
     "name": "stdout",
     "output_type": "stream",
     "text": [
      "Chữ cái thường tương ứng là: g\n",
      "Chữ cái liền trước là: f\n"
     ]
    }
   ],
   "source": [
    "#Bài 5\n",
    "c = input(\"Nhập một chữ cái in hoa: \")\n",
    "\n",
    "if c.isupper():\n",
    "    lower_c = c.lower()\n",
    "    print(\"Chữ cái thường tương ứng là:\", lower_c)\n",
    "\n",
    "    if lower_c == 'a':\n",
    "        print(\"Chữ cái liền trước là: z\")\n",
    "    else:\n",
    "        truoc = chr(ord(lower_c) - 1)\n",
    "        print(\"Chữ cái liền trước là:\", truoc)\n",
    "else:\n",
    "    print(\"Chữ nhập phải là chữ in hoa.\")\n"
   ]
  },
  {
   "cell_type": "code",
   "execution_count": 47,
   "id": "03daef04-e486-49fa-9e08-d83f85db6baa",
   "metadata": {},
   "outputs": [
    {
     "name": "stdin",
     "output_type": "stream",
     "text": [
      "Chiều dài cạnh thứ nhất của tam giác 2\n",
      "Chiều dài cạnh thứ hai của tam giác 4\n",
      "Chiều dài cạnh thứ ba của tam giác 5\n"
     ]
    },
    {
     "name": "stdout",
     "output_type": "stream",
     "text": [
      " Diện tích của tam giác là:  3.8\n"
     ]
    }
   ],
   "source": [
    "#Bài 6\n",
    "import math\n",
    "\n",
    "a = float(input (\"Chiều dài cạnh thứ nhất của tam giác\"))\n",
    "b = float(input (\"Chiều dài cạnh thứ hai của tam giác\"))\n",
    "c = float(input (\"Chiều dài cạnh thứ ba của tam giác\"))\n",
    "if a + b > c and b + c > a and c + a > b:\n",
    "    p = (a + b + c) / 2\n",
    "    dien_tich = math.sqrt(p * (p - a) * (p - b) * (p -c))\n",
    "    print (\" Diện tích của tam giác là: \" , round(dien_tich, 1))\n",
    "else :\n",
    "    print (\" Không phải 3 cạnh của tam giác \") \n",
    "    "
   ]
  },
  {
   "cell_type": "code",
   "execution_count": 51,
   "id": "0a344dd8-4f42-4ca9-b258-0633f7bbb9ae",
   "metadata": {},
   "outputs": [
    {
     "name": "stdin",
     "output_type": "stream",
     "text": [
      "Nhập chuỗi kí tự của bạn, hãy nhập chuỗi có số kí tự lớn hơn hơn bằng 20  sạasifjapifja\n"
     ]
    },
    {
     "name": "stdout",
     "output_type": "stream",
     "text": [
      "Vui lòng nhập chuỗi có sô kí tự đầy đủ\n"
     ]
    }
   ],
   "source": [
    "#Bài 7\n",
    "#python chỉ đếm từ 0 nên nhập lùi lại 1 số \n",
    "#len để đếm các thứ về mặt kí tự nên làm để thay chuỗi \n",
    "\n",
    "chuoi = input (\"Nhập chuỗi kí tự của bạn, hãy nhập chuỗi có số kí tự lớn hơn hơn bằng 20 \")\n",
    "if len(chuoi) >= 20:\n",
    "    print ( \"Chữ cái thứ 5 là:\", chuoi[4])\n",
    "    print ( \"Chữ cái thứ 9 là:\", chuoi [8])\n",
    "else:\n",
    "    print (\"Vui lòng nhập chuỗi có sô kí tự đầy đủ\")\n",
    "    \n",
    "\n"
   ]
  },
  {
   "cell_type": "code",
   "execution_count": 59,
   "id": "fdcf0ea8-1c03-429a-b91a-adfa30eefd32",
   "metadata": {},
   "outputs": [
    {
     "name": "stdin",
     "output_type": "stream",
     "text": [
      "Nhập tên chủ hộ: bú\n",
      "Nhập tiền điện tháng trước 19847189471\n",
      "Nhập tiền điện tháng này 92929120812093\n"
     ]
    },
    {
     "name": "stdout",
     "output_type": "stream",
     "text": [
      "Ho va ten bú\n",
      " Tien phải tra la  3.471833736723179e+17\n"
     ]
    }
   ],
   "source": [
    "#Bài 8 \n",
    "ten = input (\"Nhập tên chủ hộ:\" )\n",
    "diencu = int (input (\"Nhập tiền điện tháng trước\"))\n",
    "dienmoi = int (input (\"Nhập tiền điện tháng này\"))\n",
    "if dienmoi < diencu:\n",
    "    print (\"Số điện của tháng này phải lớn hơn tháng trước\")\n",
    "else :\n",
    "    so_dien = dienmoi - diencu\n",
    "    tien_dien = 0\n",
    "if so_dien <= 50:\n",
    "    tien_dien = so_dien * 1984\n",
    "elif so_dien <= 100 :\n",
    "    tien_dien = 50 * 1984 + (so_dien - 50 ) * 2050\n",
    "elif so_dien <= 200 :\n",
    "    tien_dien = 50 * 1984 + 50 * 2050 + (so_dien - 100) * 2380\n",
    "elif so_dien <= 300 :\n",
    "    tien_dien = 50 * 1984 + 50 * 2050 + 100 * 2380 + (so_dien - 200) *2998\n",
    "elif  so_dien <= 400 :\n",
    "    tien_dien = 50 * 1984 + 50 * 2050 + 100 * 2380 + 100 * 2998 + (so_dien - 300) * 3350\n",
    "else :\n",
    "    tien_dien = 50 * 1984 + 50 * 2050 + 100 * 2380 + 100 * 2998 + (so_dien -400) * 3460\n",
    "\n",
    "tongtien = tien_dien + tien_dien * 0.08 \n",
    "\n",
    "print (\"Ho va ten\", ten )\n",
    "print (\" Tien phải tra la \", round(tongtien, 1))\n"
   ]
  },
  {
   "cell_type": "code",
   "execution_count": null,
   "id": "a19eba60-e23b-42d4-84b2-c0978339e3fe",
   "metadata": {},
   "outputs": [],
   "source": [
    "#Một số bài tập khác"
   ]
  },
  {
   "cell_type": "code",
   "execution_count": 4,
   "id": "5084c487-e611-40f0-84e7-832118ea15ae",
   "metadata": {},
   "outputs": [
    {
     "name": "stdin",
     "output_type": "stream",
     "text": [
      "Nhập 1 số nguyên bất kì  3\n"
     ]
    },
    {
     "name": "stdout",
     "output_type": "stream",
     "text": [
      " Đó là số lẻ \n"
     ]
    }
   ],
   "source": [
    "# Bài 1 \n",
    "a = int (input ( \"Nhập 1 số nguyên bất kì \")) \n",
    "if a % 2 == 0 :\n",
    "    print (\" Đó là số chẵn\" )\n",
    "else :\n",
    "    print (\" Đó là số lẻ \")\n"
   ]
  },
  {
   "cell_type": "code",
   "execution_count": 7,
   "id": "fa4db5be-d83c-4670-9d98-0c0d04079109",
   "metadata": {},
   "outputs": [
    {
     "name": "stdin",
     "output_type": "stream",
     "text": [
      "Nhập 1 số nguyên bất kì  1\n"
     ]
    },
    {
     "name": "stdout",
     "output_type": "stream",
     "text": [
      "False\n"
     ]
    }
   ],
   "source": [
    "#Bài 2\n",
    "#Chuyển số thành chuỗi bằng str(so), rồi dùng .endswith('5') \n",
    "#để kiểm tra xem chuỗi có kết thúc bằng ký tự '5' hay không.\n",
    "\n",
    "a = int (input (\"Nhập 1 số nguyên bất kì \"))\n",
    "if str (a).endswith('5'):\n",
    "    print (\"True\")\n",
    "else :\n",
    "    print (\"False\")\n",
    "    \n",
    "\n"
   ]
  },
  {
   "cell_type": "code",
   "execution_count": 10,
   "id": "ed096d87-ae2e-4c1f-9b70-6841d37a27e9",
   "metadata": {},
   "outputs": [
    {
     "name": "stdin",
     "output_type": "stream",
     "text": [
      "Nhập 1 số nguyên bất kì  15\n"
     ]
    },
    {
     "name": "stdout",
     "output_type": "stream",
     "text": [
      "True\n"
     ]
    }
   ],
   "source": [
    "#Bài 3\n",
    "a = int (input(\"Nhập 1 số nguyên bất kì \"))\n",
    "if a % 3 == 0 and a % 5 == 0 :\n",
    "    print (\"True\")\n",
    "else :\n",
    "    print (\"False\")\n",
    "    "
   ]
  },
  {
   "cell_type": "code",
   "execution_count": 13,
   "id": "68d44589-1b35-4b53-844a-af4d6fd58d9f",
   "metadata": {},
   "outputs": [
    {
     "name": "stdin",
     "output_type": "stream",
     "text": [
      "Nhập tuổi của người muốn đi bầu cử 12\n"
     ]
    },
    {
     "name": "stdout",
     "output_type": "stream",
     "text": [
      "Chưa đủ tuổi đi bầu cử\n"
     ]
    }
   ],
   "source": [
    "#Bài 4\n",
    "a = int (input(\"Nhập tuổi của người muốn đi bầu cử\"))\n",
    "if a < 18 :\n",
    "    print (\"Chưa đủ tuổi đi bầu cử\")\n",
    "else :\n",
    "    print (\"Đã đủ tuổi tham gia bầu cử\")\n",
    "    \n"
   ]
  },
  {
   "cell_type": "code",
   "execution_count": 15,
   "id": "c4d06c64-dad5-4e4f-be3f-513c61953678",
   "metadata": {},
   "outputs": [
    {
     "name": "stdin",
     "output_type": "stream",
     "text": [
      "Nhập số thứ nhất muốn so sánh  2\n",
      "Nhập số thứ hai muốn so snahs  3\n"
     ]
    },
    {
     "name": "stdout",
     "output_type": "stream",
     "text": [
      "Số thứ hai lớn hơn số thứ nhất \n"
     ]
    }
   ],
   "source": [
    "#Bài 5 \n",
    "a = float (input(\"Nhập số thứ nhất muốn so sánh \"))\n",
    "b = float (input (\"Nhập số thứ hai muốn so snahs \"))\n",
    "if a > b :\n",
    "    print(\" Số thứ nhất lớn hơn số thứ hai \")\n",
    "elif b > a :\n",
    "    print (\"Số thứ hai lớn hơn số thứ nhất \")\n",
    "else :\n",
    "    print (\"Giá trị của 2 số là bằng nhau \") \n",
    "    "
   ]
  },
  {
   "cell_type": "code",
   "execution_count": 17,
   "id": "eba3e80a-11e9-497f-97dc-418ce7f8a0d2",
   "metadata": {},
   "outputs": [
    {
     "name": "stdin",
     "output_type": "stream",
     "text": [
      "Nhập một ký tự:  ư\n"
     ]
    },
    {
     "name": "stdout",
     "output_type": "stream",
     "text": [
      "Đây là chữ cái.\n"
     ]
    }
   ],
   "source": [
    "#Bài 6\n",
    "ky_tu = input(\"Nhập một ký tự: \")\n",
    "if len(ky_tu) != 1:\n",
    "    print(\"Vui lòng chỉ nhập một ký tự duy nhất.\")\n",
    "else:\n",
    "    if ky_tu.isalpha():\n",
    "        print(\"Đây là chữ cái.\")\n",
    "    elif ky_tu.isdigit():\n",
    "        print(\"Đây là chữ số.\")\n",
    "    else:\n",
    "        print(\"Đây không phải là chữ cái hay chữ số.\")\n"
   ]
  },
  {
   "cell_type": "code",
   "execution_count": 21,
   "id": "001897a3-e537-4ff9-abc1-8040a876191e",
   "metadata": {},
   "outputs": [
    {
     "name": "stdin",
     "output_type": "stream",
     "text": [
      "Nhập điểm học lực của bạn 4.5\n"
     ]
    },
    {
     "name": "stdout",
     "output_type": "stream",
     "text": [
      "Ngu đến mức bị kém\n"
     ]
    }
   ],
   "source": [
    "#Bài 7\n",
    "a = float (input( \"Nhập điểm học lực của bạn\"))\n",
    "a > 0 and a< 10\n",
    "if a >= 8 :\n",
    "    print (\"Học lực giỏi\")\n",
    "elif a >= 6.5 and a < 8 :\n",
    "    print (\"Thằng này chỉ khá thôi\" )\n",
    "elif a >= 5 and a < 6.5 :\n",
    "    print (\"Trung bình thì nhót rồi \")\n",
    "else:\n",
    "    print (\"Ngu đến mức bị kém\")\n",
    "\n"
   ]
  },
  {
   "cell_type": "code",
   "execution_count": 22,
   "id": "fbdb9324-def2-49c8-ab30-2faa7b4bd375",
   "metadata": {},
   "outputs": [
    {
     "name": "stdin",
     "output_type": "stream",
     "text": [
      "Nhập năm:  4444\n"
     ]
    },
    {
     "name": "stdout",
     "output_type": "stream",
     "text": [
      "Đây là năm nhuận.\n"
     ]
    }
   ],
   "source": [
    "#Bài 8\n",
    "nam = int(input(\"Nhập năm: \"))\n",
    "\n",
    "if (nam % 400 == 0) or (nam % 4 == 0 and nam % 100 != 0):\n",
    "    print(\"Đây là năm nhuận.\")\n",
    "else:\n",
    "    print(\"Đây không phải là năm nhuận.\")\n"
   ]
  },
  {
   "cell_type": "code",
   "execution_count": 23,
   "id": "959717a8-d171-48d8-8c62-29c66c71fc51",
   "metadata": {},
   "outputs": [
    {
     "name": "stdin",
     "output_type": "stream",
     "text": [
      "Nhập một số nguyên từ 0 đến 9:  4\n"
     ]
    },
    {
     "name": "stdout",
     "output_type": "stream",
     "text": [
      "Bốn\n"
     ]
    }
   ],
   "source": [
    "#Bài 9 \n",
    "so = int(input(\"Nhập một số nguyên từ 0 đến 9: \"))\n",
    "\n",
    "match so:\n",
    "    case 0:\n",
    "        print(\"Không\")\n",
    "    case 1:\n",
    "        print(\"Một\")\n",
    "    case 2:\n",
    "        print(\"Hai\")\n",
    "    case 3:\n",
    "        print(\"Ba\")\n",
    "    case 4:\n",
    "        print(\"Bốn\")\n",
    "    case 5:\n",
    "        print(\"Năm\")\n",
    "    case 6:\n",
    "        print(\"Sáu\")\n",
    "    case 7:\n",
    "        print(\"Bảy\")\n",
    "    case 8:\n",
    "        print(\"Tám\")\n",
    "    case 9:\n",
    "        print(\"Chín\")\n",
    "    case _:\n",
    "        print(\"Vui lòng nhập số từ 0 đến 9.\")\n"
   ]
  },
  {
   "cell_type": "code",
   "execution_count": 24,
   "id": "775ecc8a-83d9-4b0d-945e-8e17b705684d",
   "metadata": {},
   "outputs": [
    {
     "name": "stdin",
     "output_type": "stream",
     "text": [
      "Nhập điểm thi:  3\n"
     ]
    },
    {
     "name": "stdout",
     "output_type": "stream",
     "text": [
      "Học lại\n"
     ]
    }
   ],
   "source": [
    "#Bài 10\n",
    "diem = float(input(\"Nhập điểm thi: \"))\n",
    "\n",
    "if diem >= 4:\n",
    "    print(\"Qua môn\")\n",
    "else:\n",
    "    print(\"Học lại\")\n"
   ]
  },
  {
   "cell_type": "code",
   "execution_count": 25,
   "id": "6d8332ad-a3fa-400d-b102-d6cfaf52e337",
   "metadata": {},
   "outputs": [
    {
     "name": "stdin",
     "output_type": "stream",
     "text": [
      "Nhập năm sinh:  23\n"
     ]
    },
    {
     "name": "stdout",
     "output_type": "stream",
     "text": [
      "Tuổi của bạn là: 2002\n",
      "Đủ 18 tuổi\n"
     ]
    }
   ],
   "source": [
    "#Bài 11\n",
    "nam_sinh = int(input(\"Nhập năm sinh: \"))\n",
    "nam_hien_tai = 2025\n",
    "\n",
    "tuoi = nam_hien_tai - nam_sinh\n",
    "\n",
    "print(f\"Tuổi của bạn là: {tuoi}\")\n",
    "\n",
    "if tuoi >= 18:\n",
    "    print(\"Đủ 18 tuổi\")\n",
    "else:\n",
    "    print(\"Chưa đủ 18 tuổi\")\n"
   ]
  },
  {
   "cell_type": "code",
   "execution_count": null,
   "id": "99786c7e-7ed0-4bd4-9a2a-c38123a14c99",
   "metadata": {},
   "outputs": [],
   "source": []
  }
 ],
 "metadata": {
  "kernelspec": {
   "display_name": "Python 3 (ipykernel)",
   "language": "python",
   "name": "python3"
  },
  "language_info": {
   "codemirror_mode": {
    "name": "ipython",
    "version": 3
   },
   "file_extension": ".py",
   "mimetype": "text/x-python",
   "name": "python",
   "nbconvert_exporter": "python",
   "pygments_lexer": "ipython3",
   "version": "3.13.5"
  }
 },
 "nbformat": 4,
 "nbformat_minor": 5
}
