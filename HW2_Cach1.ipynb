{
 "cells": [
  {
   "cell_type": "code",
   "execution_count": 1,
   "id": "a96368cf-b80a-4ba5-bb29-3c0461cbe4aa",
   "metadata": {},
   "outputs": [
    {
     "name": "stdin",
     "output_type": "stream",
     "text": [
      "Nhap vao chieu dai 1\n",
      "Nhap vao chieu rong  1\n"
     ]
    },
    {
     "name": "stdout",
     "output_type": "stream",
     "text": [
      "Chu vi cua hinh chu nhat la 4.0\n",
      "Dien tich cua hinh chu nhat la 1.0\n"
     ]
    }
   ],
   "source": [
    "#Bai 1 \n",
    "#Su dung if-else\n",
    "a = float (input (\"Nhap vao chieu dai\"))\n",
    "b = float (input (\"Nhap vao chieu rong \"))\n",
    "dien_tich = a * b\n",
    "chu_vi = (a + b) * 2\n",
    "if a < b :\n",
    "    print (\"Chieu dai phai lon hon chieu rong\")\n",
    "else :\n",
    "    print (\"Chu vi cua hinh chu nhat la\", chu_vi)\n",
    "    print (\"Dien tich cua hinh chu nhat la\", dien_tich)"
   ]
  },
  {
   "cell_type": "code",
   "execution_count": 3,
   "id": "4371a070-682f-4e3a-89aa-542586aab563",
   "metadata": {},
   "outputs": [
    {
     "name": "stdin",
     "output_type": "stream",
     "text": [
      "Nhập chiều dài:  1\n",
      "Nhập chiều rộng:  0.2\n"
     ]
    },
    {
     "name": "stdout",
     "output_type": "stream",
     "text": [
      "Chu vi: 2.4\n",
      "Diện tích: 0.2\n"
     ]
    }
   ],
   "source": [
    "#Bai 1\n",
    "#dat an\n",
    "def tinh_hinh_chu_nhat(chieu_dai, chieu_rong):\n",
    "    if chieu_dai < chieu_rong:\n",
    "        print(\"Chiều dài phải lớn hơn chiều rộng\")\n",
    "    else:\n",
    "        dien_tich = chieu_dai * chieu_rong\n",
    "        chu_vi = (chieu_dai + chieu_rong) * 2\n",
    "        print(\"Chu vi:\", chu_vi)\n",
    "        print(\"Diện tích:\", dien_tich)\n",
    "\n",
    "a = float(input(\"Nhập chiều dài: \"))\n",
    "b = float(input(\"Nhập chiều rộng: \"))\n",
    "tinh_hinh_chu_nhat(a, b)"
   ]
  },
  {
   "cell_type": "code",
   "execution_count": 4,
   "id": "aa537bd3-67b5-45f0-9754-8909df6e243e",
   "metadata": {},
   "outputs": [
    {
     "name": "stdin",
     "output_type": "stream",
     "text": [
      "Nhập chiều dài:  4\n",
      "Nhập chiều rộng:  1\n"
     ]
    },
    {
     "name": "stdout",
     "output_type": "stream",
     "text": [
      "Chu vi: 10.0\n",
      "Diện tích: 4.0\n"
     ]
    }
   ],
   "source": [
    "#Bai 1 \n",
    "# WHILE TRUE\n",
    "while True:\n",
    "    a = float(input(\"Nhập chiều dài: \"))\n",
    "    b = float(input(\"Nhập chiều rộng: \"))\n",
    "    if a < b:\n",
    "        print(\"Chiều dài phải lớn hơn chiều rộng. Nhập lại.\")\n",
    "    else:\n",
    "        break  \n",
    "chu_vi = 2 * (a + b)\n",
    "dien_tich = a * b\n",
    "print(\"Chu vi:\", chu_vi)\n",
    "print(\"Diện tích:\", dien_tich)\n"
   ]
  },
  {
   "cell_type": "code",
   "execution_count": 5,
   "id": "042f9de4-d87a-486d-bf89-718ce7dd2b0c",
   "metadata": {},
   "outputs": [
    {
     "name": "stdin",
     "output_type": "stream",
     "text": [
      "Nhap chieu dai 5\n",
      "Nhap chieu rong 1\n"
     ]
    },
    {
     "name": "stdout",
     "output_type": "stream",
     "text": [
      "Chu_vi: 12.0\n",
      "Dien_tich: 5.0\n"
     ]
    }
   ],
   "source": [
    "#Bai 1 \n",
    "#try except\n",
    "try:\n",
    "    a = float (input (\"Nhap chieu dai\"))\n",
    "    b = float (input (\"Nhap chieu rong\"))\n",
    "    if a < b:\n",
    "        print (\"Chieu dai phai lon hon chieu rong\")\n",
    "    else:\n",
    "        chu_vi = (a + b) * 2\n",
    "        dien_tich = a * b\n",
    "        print (\"Chu_vi:\", chu_vi)\n",
    "        print (\"Dien_tich:\", dien_tich) \n",
    "\n",
    "except ValueError:\n",
    "    print (\" Vui long nhap so hop le\")\n"
   ]
  },
  {
   "cell_type": "code",
   "execution_count": 18,
   "id": "d5a286c8-20f2-49ed-b0b7-134b233439fe",
   "metadata": {},
   "outputs": [
    {
     "name": "stdin",
     "output_type": "stream",
     "text": [
      "Nhap ban kinh 1\n"
     ]
    },
    {
     "name": "stdout",
     "output_type": "stream",
     "text": [
      "Chu vi la 6.283185307179586\n",
      "Dien tich la 3.141592653589793\n"
     ]
    }
   ],
   "source": [
    "import math\n",
    "\n",
    "while True:\n",
    "    r = float(input(\"Nhap ban kinh\"))\n",
    "    if r <= 0:\n",
    "        print(\"Ban kinh phai lon hon 0\")\n",
    "    else:\n",
    "        break\n",
    "\n",
    "cv = 2 * math.pi * r\n",
    "dt = math.pi * r * r\n",
    "\n",
    "print(\"Chu vi la\", cv)\n",
    "print(\"Dien tich la\", dt)\n"
   ]
  },
  {
   "cell_type": "code",
   "execution_count": 19,
   "id": "5554d69b-fdbf-4980-8593-76a57360f6fa",
   "metadata": {},
   "outputs": [
    {
     "name": "stdin",
     "output_type": "stream",
     "text": [
      "Nhap canh a 1\n",
      "Nhap canh b 2\n",
      "Nhap canh c 3\n"
     ]
    },
    {
     "name": "stdout",
     "output_type": "stream",
     "text": [
      "Khong la ba canh cua mot tam giac\n"
     ]
    }
   ],
   "source": [
    "import math\n",
    "\n",
    "a = float(input(\"Nhap canh a\"))\n",
    "b = float(input(\"Nhap canh b\"))\n",
    "c = float(input(\"Nhap canh c\"))\n",
    "\n",
    "if a + b > c and a + c > b and b + c > a:\n",
    "    cv = a + b + c\n",
    "    p = cv / 2\n",
    "    dt = math.sqrt(p * (p - a) * (p - b) * (p - c))\n",
    "\n",
    "    if a == b and b == c:\n",
    "        print(\"Tam giac deu\")\n",
    "    elif a == b or b == c or a == c:\n",
    "        print(\"Tam giac can\")\n",
    "        if a**2 + b**2 == c**2 or a**2 + c**2 == b**2 or b**2 + c**2 == a**2:\n",
    "            print(\"Tam giac vuong can\")\n",
    "    elif a**2 + b**2 == c**2 or a**2 + c**2 == b**2 or b**2 + c**2 == a**2:\n",
    "        print(\"Tam giac vuong\")\n",
    "    else:\n",
    "        print(\"Tam giac thuong\")\n",
    "\n",
    "    print(\"Chu vi la\", cv)\n",
    "    print(\"Dien tich la\", dt)\n",
    "else:\n",
    "    print(\"Khong la ba canh cua mot tam giac\")"
   ]
  },
  {
   "cell_type": "code",
   "execution_count": 24,
   "id": "6429005d-2307-44e0-92f3-85ebe2e688db",
   "metadata": {},
   "outputs": [
    {
     "name": "stdin",
     "output_type": "stream",
     "text": [
      "Nhap he so a  1\n",
      "Nhap he so b 3\n"
     ]
    },
    {
     "name": "stdout",
     "output_type": "stream",
     "text": [
      "x = -3.0\n"
     ]
    }
   ],
   "source": [
    "#Bai 4\n",
    "a = float (input (\"Nhap he so a \"))\n",
    "b = float (input (\"Nhap he so b\" ))\n",
    "if a == 0 :\n",
    "    print (\"Vo nghiem\")\n",
    "elif b == 0 :\n",
    "    print ( \"x = 0\")\n",
    "else :\n",
    "    print ( \"x =\", (-b) / a)\n",
    "\n",
    "    "
   ]
  },
  {
   "cell_type": "code",
   "execution_count": 10,
   "id": "a56989c8-60b4-4e83-a019-a897a5e72751",
   "metadata": {},
   "outputs": [
    {
     "name": "stdin",
     "output_type": "stream",
     "text": [
      "Nhap he so a  3234\n",
      "Nhap he so b 6345345\n",
      "Nhap he so c 21312\n"
     ]
    },
    {
     "name": "stdout",
     "output_type": "stream",
     "text": [
      "Nghiem thu nhat la x1 = -10266733082.297813\n",
      "Nghiem thu hai la x2 = 10254042392.297813\n"
     ]
    }
   ],
   "source": [
    "#Bai 5\n",
    "import math\n",
    "a = float (input (\"Nhap he so a \"))\n",
    "b = float (input (\"Nhap he so b\" ))\n",
    "c = float (input (\"Nhap he so c\" ))\n",
    "delta = b**2 - 4 * ( a * c )\n",
    "if delta < 0:\n",
    "    print (\"Phuong trinh khong co nghiem\")\n",
    "elif delta == 0:\n",
    "    x = -b / (2 * a)\n",
    "    print (\"Phuong trinh co nghiem duy nhat la x =\", x)\n",
    "else :\n",
    "    x1 = ( - b - (math.sqrt (delta)) / 2 * a)\n",
    "    x2 = ( - b + (math.sqrt (delta)) / 2 * a)\n",
    "    print ( \"Nghiem thu nhat la x1 =\", x1)\n",
    "    print ( \"Nghiem thu hai la x2 =\", x2)\n",
    "\n",
    "    \n"
   ]
  },
  {
   "cell_type": "code",
   "execution_count": 35,
   "id": "3116f1ac-3782-4e6a-b9b5-6978f4815b5e",
   "metadata": {},
   "outputs": [
    {
     "name": "stdin",
     "output_type": "stream",
     "text": [
      "Nhap so thu nhat muon so sanh 25\n",
      "Nhap so thu hai muon so sanh 4\n",
      "Nhap so thu ba muon so sanh 50\n"
     ]
    },
    {
     "name": "stdout",
     "output_type": "stream",
     "text": [
      "So lon nhat la  50.0\n"
     ]
    }
   ],
   "source": [
    "#Bai 6\n",
    "#Bai 7\n",
    "a = float (input (\"Nhap so thu nhat muon so sanh\"))\n",
    "b = float (input (\"Nhap so thu hai muon so sanh\"))\n",
    "b = float (input (\"Nhap so thu ba muon so sanh\"))\n",
    "d = 20\n",
    "so_lon_nhat = a\n",
    "if b > so_lon_nhat:\n",
    "    so_lon_nhat = b\n",
    "if c > so_lon_nhat:\n",
    "    so_lon_nhat = c\n",
    "if d > so_lon_nhat:\n",
    "    so_lon_nhat = d\n",
    "print (\"So lon nhat la \", so_lon_nhat)\n",
    "\n"
   ]
  },
  {
   "cell_type": "code",
   "execution_count": 38,
   "id": "7681bfe8-9de1-4c81-932c-ffac367572ce",
   "metadata": {},
   "outputs": [
    {
     "name": "stdin",
     "output_type": "stream",
     "text": [
      "Nhap he so a: 2\n",
      "Nhap he so b: 4\n",
      "Nhap he so tu do m: 5\n",
      "Nhap he so c: 2\n",
      "Nhap he so d: 1\n",
      "Nhap he so tu do n: 5\n"
     ]
    },
    {
     "name": "stdout",
     "output_type": "stream",
     "text": [
      "Nghiem cua he la:\n",
      "x = 2.5\n",
      "y = -0.0\n"
     ]
    }
   ],
   "source": [
    "#Bai 8\n",
    "# Dinh thuc CRAMER\n",
    "a = float(input(\"Nhap he so a:\"))\n",
    "b = float(input(\"Nhap he so b:\"))\n",
    "m = float(input(\"Nhap he so tu do m:\"))\n",
    "\n",
    "c = float(input(\"Nhap he so c:\"))\n",
    "d = float(input(\"Nhap he so d:\"))\n",
    "n = float(input(\"Nhap he so tu do n:\"))\n",
    "\n",
    "D = a * d - b * c\n",
    "Dx = m * d - b * n\n",
    "Dy = a * n - m * c\n",
    "\n",
    "if D == 0:\n",
    "    if Dx == 0 and Dy == 0:\n",
    "        print(\"He phuong trinh co vo so nghiem:\")\n",
    "    else:\n",
    "        print(\"He phuong trinh vo nghiem:\")\n",
    "else:\n",
    "    x = Dx / D\n",
    "    y = Dy / D\n",
    "    print(\"Nghiem cua he la:\")\n",
    "    print(\"x =\", x)\n",
    "    print(\"y =\", y)\n"
   ]
  },
  {
   "cell_type": "code",
   "execution_count": 11,
   "id": "132b2951-99ba-4c3f-9c67-e3c80c1f0245",
   "metadata": {},
   "outputs": [
    {
     "name": "stdin",
     "output_type": "stream",
     "text": [
      "Nhap so giay ban can tinh de hoan thanh cong viec 12414234\n"
     ]
    },
    {
     "name": "stdout",
     "output_type": "stream",
     "text": [
      "So gio la: 3448 So phut la: 23 So giay la: 54\n"
     ]
    }
   ],
   "source": [
    "#Bai 9\n",
    "x = float(input(\"Nhap so giay ban can tinh de hoan thanh cong viec\"))\n",
    "\n",
    "gio = int(x // 3600)\n",
    "phut = int((x % 3600) // 60)\n",
    "giay = int(x % 60)\n",
    "\n",
    "print(\"So gio la:\", gio, \"So phut la:\", phut, \"So giay la:\", giay)\n",
    "\n",
    "    \n",
    "\n"
   ]
  },
  {
   "cell_type": "code",
   "execution_count": 12,
   "id": "e2a505e0-3845-48c3-84e5-54581b32473c",
   "metadata": {},
   "outputs": [
    {
     "name": "stdin",
     "output_type": "stream",
     "text": [
      "Nhập hoành độ tâm đường tròn (x0):  1\n",
      "Nhập tung độ tâm đường tròn (y0):  1\n",
      "Nhập bán kính đường tròn (r):  1\n",
      "Nhập hoành độ điểm A (x):  1\n",
      "Nhập tung độ điểm A (y):  1\n"
     ]
    },
    {
     "name": "stdout",
     "output_type": "stream",
     "text": [
      "Điểm A nằm bên trong đường tròn.\n"
     ]
    }
   ],
   "source": [
    "#Bai 10\n",
    "\n",
    "x0 = float(input(\"Nhập hoành độ tâm đường tròn (x0): \"))\n",
    "y0 = float(input(\"Nhập tung độ tâm đường tròn (y0): \"))\n",
    "r = float(input(\"Nhập bán kính đường tròn (r): \"))\n",
    "x = float(input(\"Nhập hoành độ điểm A (x): \"))\n",
    "y = float(input(\"Nhập tung độ điểm A (y): \"))\n",
    "khoang_cach = ((x - x0)**2 + (y - y0)**2)**0.5\n",
    "if abs(khoang_cach - r) < 1e-6:\n",
    "    print(\"Điểm A nằm trên đường tròn.\")\n",
    "elif khoang_cach < r:\n",
    "    print(\"Điểm A nằm bên trong đường tròn.\")\n",
    "else:\n",
    "    print(\"Điểm A nằm ngoài đường tròn.\")"
   ]
  },
  {
   "cell_type": "code",
   "execution_count": 13,
   "id": "e49c5684-0981-4adb-9ce4-a9ef98a07dc3",
   "metadata": {},
   "outputs": [
    {
     "name": "stdin",
     "output_type": "stream",
     "text": [
      "Nhập giá trị x:  2\n",
      "Nhập giá trị y:  4\n"
     ]
    },
    {
     "name": "stdout",
     "output_type": "stream",
     "text": [
      "2.0^4.0 = 16.0\n"
     ]
    }
   ],
   "source": [
    "x = float(input(\"Nhập giá trị x: \"))\n",
    "y = float(input(\"Nhập giá trị y: \"))\n",
    "ket_qua = x ** y\n",
    "print(f\"{x}^{y} = {ket_qua}\")"
   ]
  },
  {
   "cell_type": "code",
   "execution_count": null,
   "id": "1094b0a8-adb6-4e6d-8a68-aa76e039bbd9",
   "metadata": {},
   "outputs": [],
   "source": []
  }
 ],
 "metadata": {
  "kernelspec": {
   "display_name": "Python 3 (ipykernel)",
   "language": "python",
   "name": "python3"
  },
  "language_info": {
   "codemirror_mode": {
    "name": "ipython",
    "version": 3
   },
   "file_extension": ".py",
   "mimetype": "text/x-python",
   "name": "python",
   "nbconvert_exporter": "python",
   "pygments_lexer": "ipython3",
   "version": "3.13.5"
  }
 },
 "nbformat": 4,
 "nbformat_minor": 5
}
